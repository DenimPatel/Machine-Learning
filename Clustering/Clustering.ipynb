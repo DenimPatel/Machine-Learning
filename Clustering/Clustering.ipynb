{
  "nbformat": 4,
  "nbformat_minor": 0,
  "metadata": {
    "colab": {
      "name": "Question 3.3 - Clustering and NB",
      "provenance": []
    },
    "kernelspec": {
      "name": "python3",
      "display_name": "Python 3"
    }
  },
  "cells": [
    {
      "cell_type": "markdown",
      "metadata": {
        "id": "ZKEnwr8_tE8Y",
        "colab_type": "text"
      },
      "source": [
        "**UNSUPERVISES _ CLUSTERING**\n",
        "\n"
      ]
    },
    {
      "cell_type": "code",
      "metadata": {
        "id": "jQGrXQ6mbNAT",
        "colab_type": "code",
        "colab": {}
      },
      "source": [
        "# import required libraries\n",
        "from sklearn.datasets import fetch_20newsgroups\n",
        "from sklearn.feature_extraction.text import TfidfVectorizer\n",
        "import numpy as np\n",
        "from sklearn.cluster import KMeans\n",
        "from sklearn import metrics\n"
      ],
      "execution_count": 0,
      "outputs": []
    },
    {
      "cell_type": "code",
      "metadata": {
        "id": "XMlgnPzhbN1W",
        "colab_type": "code",
        "outputId": "a606cd92-a80a-4a7e-e822-e459adf2985c",
        "colab": {
          "base_uri": "https://localhost:8080/",
          "height": 51
        }
      },
      "source": [
        "# get dataset\n",
        "categories = None\n",
        "\n",
        "newsgroups_train = fetch_20newsgroups(subset='train')\n",
        "labels = newsgroups_train.target\n",
        "\n",
        "true_k = 20\n",
        "assumed_k = 50"
      ],
      "execution_count": 2,
      "outputs": [
        {
          "output_type": "stream",
          "text": [
            "Downloading 20news dataset. This may take a few minutes.\n",
            "Downloading dataset from https://ndownloader.figshare.com/files/5975967 (14 MB)\n"
          ],
          "name": "stderr"
        }
      ]
    },
    {
      "cell_type": "code",
      "metadata": {
        "id": "Dhune2XjkCNu",
        "colab_type": "code",
        "outputId": "d1f04f5c-2acf-49b3-99bd-8adb941fa68f",
        "colab": {
          "base_uri": "https://localhost:8080/",
          "height": 34
        }
      },
      "source": [
        "# Number of datapoints to train\n",
        "len(newsgroups_train.data)"
      ],
      "execution_count": 3,
      "outputs": [
        {
          "output_type": "execute_result",
          "data": {
            "text/plain": [
              "11314"
            ]
          },
          "metadata": {
            "tags": []
          },
          "execution_count": 3
        }
      ]
    },
    {
      "cell_type": "code",
      "metadata": {
        "id": "ILfZYyANbT-3",
        "colab_type": "code",
        "colab": {}
      },
      "source": [
        "# convert documents into vectorized feature\n",
        "vectorizer = TfidfVectorizer(max_df=0.5,\n",
        "                             min_df=2,\n",
        "                             stop_words='english')\n",
        "\n",
        "\n",
        "X = vectorizer.fit_transform(newsgroups_train.data)"
      ],
      "execution_count": 0,
      "outputs": []
    },
    {
      "cell_type": "code",
      "metadata": {
        "id": "jP1wGkaKfMYX",
        "colab_type": "code",
        "outputId": "76b52238-a480-402c-f91b-f6beb093fe16",
        "colab": {
          "base_uri": "https://localhost:8080/",
          "height": 34
        }
      },
      "source": [
        "# Shape of the vectorized feature\n",
        "X[0].shape"
      ],
      "execution_count": 5,
      "outputs": [
        {
          "output_type": "execute_result",
          "data": {
            "text/plain": [
              "(1, 56121)"
            ]
          },
          "metadata": {
            "tags": []
          },
          "execution_count": 5
        }
      ]
    },
    {
      "cell_type": "code",
      "metadata": {
        "id": "6lsAWIKmbVv2",
        "colab_type": "code",
        "outputId": "28c88c31-350f-40b2-f0a4-f99bdb3a1672",
        "colab": {
          "base_uri": "https://localhost:8080/",
          "height": 68
        }
      },
      "source": [
        "# Apply clustring algorithm\n",
        "km = KMeans(n_clusters=assumed_k, init='k-means++', max_iter=100, n_init=1)\n",
        "\n",
        "km.fit(X)"
      ],
      "execution_count": 6,
      "outputs": [
        {
          "output_type": "execute_result",
          "data": {
            "text/plain": [
              "KMeans(algorithm='auto', copy_x=True, init='k-means++', max_iter=100,\n",
              "       n_clusters=50, n_init=1, n_jobs=None, precompute_distances='auto',\n",
              "       random_state=None, tol=0.0001, verbose=0)"
            ]
          },
          "metadata": {
            "tags": []
          },
          "execution_count": 6
        }
      ]
    },
    {
      "cell_type": "code",
      "metadata": {
        "id": "C1wl6KmXbX4y",
        "colab_type": "code",
        "colab": {}
      },
      "source": [
        "order_centroids = km.cluster_centers_.argsort()[:, ::-1]\n",
        "\n",
        "terms = vectorizer.get_feature_names()\n"
      ],
      "execution_count": 0,
      "outputs": []
    },
    {
      "cell_type": "code",
      "metadata": {
        "id": "WQwfgJJubZW5",
        "colab_type": "code",
        "outputId": "83e2da15-d0a0-4c8c-d3cb-191a437fed9a",
        "colab": {
          "base_uri": "https://localhost:8080/",
          "height": 1000
        }
      },
      "source": [
        "for i in range(assumed_k):\n",
        "    print(\"cluster %d:\" % i)\n",
        "    for ind in order_centroids[i,:10]:\n",
        "        print('%s' % terms[ind])\n",
        "    print()\n"
      ],
      "execution_count": 8,
      "outputs": [
        {
          "output_type": "stream",
          "text": [
            "cluster 0:\n",
            "cmu\n",
            "andrew\n",
            "carnegie\n",
            "mellon\n",
            "pittsburgh\n",
            "pa\n",
            "hrivnak\n",
            "gtd597a\n",
            "engineering\n",
            "host\n",
            "\n",
            "cluster 1:\n",
            "drugs\n",
            "kids\n",
            "drug\n",
            "rocks\n",
            "com\n",
            "war\n",
            "don\n",
            "people\n",
            "iastate\n",
            "legalization\n",
            "\n",
            "cluster 2:\n",
            "insurance\n",
            "nec\n",
            "behanna\n",
            "nj\n",
            "syl\n",
            "com\n",
            "bike\n",
            "chris\n",
            "infante\n",
            "bellcore\n",
            "\n",
            "cluster 3:\n",
            "access\n",
            "digex\n",
            "pat\n",
            "express\n",
            "online\n",
            "net\n",
            "communications\n",
            "prb\n",
            "greenbelt\n",
            "com\n",
            "\n",
            "cluster 4:\n",
            "__\n",
            "___\n",
            "_____\n",
            "baalke\n",
            "____\n",
            "jpl\n",
            "kelvin\n",
            "_______\n",
            "gov\n",
            "nasa\n",
            "\n",
            "cluster 5:\n",
            "fbi\n",
            "handheld\n",
            "atf\n",
            "roby\n",
            "udel\n",
            "jmd\n",
            "survivors\n",
            "batf\n",
            "dividian\n",
            "koresh\n",
            "\n",
            "cluster 6:\n",
            "geb\n",
            "banks\n",
            "gordon\n",
            "pitt\n",
            "cs\n",
            "dsl\n",
            "n3jxp\n",
            "chastity\n",
            "cadre\n",
            "shameful\n",
            "\n",
            "cluster 7:\n",
            "israel\n",
            "israeli\n",
            "jews\n",
            "cpr\n",
            "arab\n",
            "adam\n",
            "igc\n",
            "policy\n",
            "apc\n",
            "palestinian\n",
            "\n",
            "cluster 8:\n",
            "drive\n",
            "disk\n",
            "drives\n",
            "hard\n",
            "floppy\n",
            "scsi\n",
            "controller\n",
            "ide\n",
            "hd\n",
            "boot\n",
            "\n",
            "cluster 9:\n",
            "ohio\n",
            "magnus\n",
            "state\n",
            "acs\n",
            "cis\n",
            "university\n",
            "article\n",
            "posting\n",
            "magnusug\n",
            "nntp\n",
            "\n",
            "cluster 10:\n",
            "people\n",
            "government\n",
            "com\n",
            "clinton\n",
            "don\n",
            "think\n",
            "just\n",
            "rights\n",
            "president\n",
            "said\n",
            "\n",
            "cluster 11:\n",
            "team\n",
            "hockey\n",
            "ca\n",
            "game\n",
            "nhl\n",
            "players\n",
            "play\n",
            "leafs\n",
            "win\n",
            "toronto\n",
            "\n",
            "cluster 12:\n",
            "mouse\n",
            "indiana\n",
            "ucs\n",
            "journalism\n",
            "driver\n",
            "windows\n",
            "dwarner\n",
            "silver\n",
            "fisher\n",
            "university\n",
            "\n",
            "cluster 13:\n",
            "card\n",
            "sale\n",
            "video\n",
            "00\n",
            "monitor\n",
            "modem\n",
            "vga\n",
            "drivers\n",
            "university\n",
            "pc\n",
            "\n",
            "cluster 14:\n",
            "key\n",
            "keys\n",
            "chip\n",
            "des\n",
            "escrow\n",
            "clipper\n",
            "bits\n",
            "bit\n",
            "nsa\n",
            "encrypted\n",
            "\n",
            "cluster 15:\n",
            "mit\n",
            "lcs\n",
            "expo\n",
            "xpert\n",
            "athena\n",
            "enterpoop\n",
            "internet\n",
            "mahan\n",
            "com\n",
            "tgv\n",
            "\n",
            "cluster 16:\n",
            "jesus\n",
            "church\n",
            "god\n",
            "bible\n",
            "christ\n",
            "christian\n",
            "christians\n",
            "people\n",
            "sabbath\n",
            "resurrection\n",
            "\n",
            "cluster 17:\n",
            "ti\n",
            "dseg\n",
            "mccall\n",
            "pyron\n",
            "mksol\n",
            "com\n",
            "skndiv\n",
            "fred\n",
            "instruments\n",
            "3539\n",
            "\n",
            "cluster 18:\n",
            "turkish\n",
            "armenian\n",
            "armenians\n",
            "armenia\n",
            "turks\n",
            "argic\n",
            "serdar\n",
            "turkey\n",
            "zuma\n",
            "genocide\n",
            "\n",
            "cluster 19:\n",
            "motif\n",
            "list\n",
            "widget\n",
            "mail\n",
            "server\n",
            "com\n",
            "nl\n",
            "mailing\n",
            "sun\n",
            "lib\n",
            "\n",
            "cluster 20:\n",
            "israel\n",
            "israeli\n",
            "lebanese\n",
            "lebanon\n",
            "hernlem\n",
            "arabs\n",
            "nysernet\n",
            "arab\n",
            "soldiers\n",
            "jews\n",
            "\n",
            "cluster 21:\n",
            "god\n",
            "faith\n",
            "believe\n",
            "hell\n",
            "people\n",
            "christians\n",
            "truth\n",
            "bible\n",
            "jesus\n",
            "does\n",
            "\n",
            "cluster 22:\n",
            "graphics\n",
            "image\n",
            "files\n",
            "3d\n",
            "polygon\n",
            "program\n",
            "package\n",
            "gif\n",
            "file\n",
            "help\n",
            "\n",
            "cluster 23:\n",
            "wpi\n",
            "simms\n",
            "rpi\n",
            "simm\n",
            "apple\n",
            "vram\n",
            "polytechnic\n",
            "nubus\n",
            "lc\n",
            "fpu\n",
            "\n",
            "cluster 24:\n",
            "sandvik\n",
            "kent\n",
            "newton\n",
            "apple\n",
            "com\n",
            "ksand\n",
            "alink\n",
            "cookamunga\n",
            "tourist\n",
            "activities\n",
            "\n",
            "cluster 25:\n",
            "com\n",
            "university\n",
            "posting\n",
            "article\n",
            "ca\n",
            "nntp\n",
            "host\n",
            "know\n",
            "like\n",
            "distribution\n",
            "\n",
            "cluster 26:\n",
            "game\n",
            "baseball\n",
            "runs\n",
            "players\n",
            "games\n",
            "jewish\n",
            "team\n",
            "hcf\n",
            "pitching\n",
            "jhu\n",
            "\n",
            "cluster 27:\n",
            "ibm\n",
            "austin\n",
            "com\n",
            "vnet\n",
            "watson\n",
            "nicho\n",
            "rchland\n",
            "disclaimer\n",
            "represents\n",
            "poster\n",
            "\n",
            "cluster 28:\n",
            "scsi\n",
            "ide\n",
            "bus\n",
            "controller\n",
            "drive\n",
            "isa\n",
            "dma\n",
            "mac\n",
            "devices\n",
            "pc\n",
            "\n",
            "cluster 29:\n",
            "stanford\n",
            "upenn\n",
            "lehigh\n",
            "sas\n",
            "phillies\n",
            "leland\n",
            "keller\n",
            "university\n",
            "mail\n",
            "kkeller\n",
            "\n",
            "cluster 30:\n",
            "jim\n",
            "halat\n",
            "zisfein\n",
            "pooh\n",
            "bears\n",
            "centerline\n",
            "com\n",
            "wray\n",
            "factory\n",
            "objective\n",
            "\n",
            "cluster 31:\n",
            "columbia\n",
            "gld\n",
            "cunixb\n",
            "cc\n",
            "dare\n",
            "gary\n",
            "cosmo\n",
            "angmar\n",
            "pro\n",
            "keenan\n",
            "\n",
            "cluster 32:\n",
            "henry\n",
            "alaska\n",
            "toronto\n",
            "zoo\n",
            "spencer\n",
            "zoology\n",
            "nsmca\n",
            "aurora\n",
            "acad3\n",
            "space\n",
            "\n",
            "cluster 33:\n",
            "keith\n",
            "livesey\n",
            "caltech\n",
            "sgi\n",
            "solntze\n",
            "wpd\n",
            "jon\n",
            "schneider\n",
            "morality\n",
            "cco\n",
            "\n",
            "cluster 34:\n",
            "uchicago\n",
            "midway\n",
            "thf2\n",
            "chicago\n",
            "kimbark\n",
            "ted\n",
            "frank\n",
            "university\n",
            "quads\n",
            "article\n",
            "\n",
            "cluster 35:\n",
            "stratus\n",
            "sw\n",
            "cdt\n",
            "com\n",
            "feustel\n",
            "batf\n",
            "rocket\n",
            "vos\n",
            "tavares\n",
            "waco\n",
            "\n",
            "cluster 36:\n",
            "msg\n",
            "dyer\n",
            "food\n",
            "sensitivity\n",
            "chinese\n",
            "superstition\n",
            "spdcc\n",
            "com\n",
            "steve\n",
            "glutamate\n",
            "\n",
            "cluster 37:\n",
            "cleveland\n",
            "freenet\n",
            "ins\n",
            "cwru\n",
            "reserve\n",
            "western\n",
            "case\n",
            "hela\n",
            "usa\n",
            "ohio\n",
            "\n",
            "cluster 38:\n",
            "cramer\n",
            "optilink\n",
            "clayton\n",
            "men\n",
            "gay\n",
            "homosexual\n",
            "sexual\n",
            "com\n",
            "virginia\n",
            "male\n",
            "\n",
            "cluster 39:\n",
            "nasa\n",
            "gov\n",
            "space\n",
            "larc\n",
            "jsc\n",
            "higgins\n",
            "jpl\n",
            "fnal\n",
            "gsfc\n",
            "howland\n",
            "\n",
            "cluster 40:\n",
            "encryption\n",
            "clipper\n",
            "chip\n",
            "intercon\n",
            "key\n",
            "escrow\n",
            "government\n",
            "amanda\n",
            "com\n",
            "crypto\n",
            "\n",
            "cluster 41:\n",
            "cs\n",
            "cornell\n",
            "year\n",
            "alomar\n",
            "baerga\n",
            "good\n",
            "better\n",
            "season\n",
            "lopez\n",
            "dal\n",
            "\n",
            "cluster 42:\n",
            "kaldis\n",
            "rutgers\n",
            "romulus\n",
            "theodore\n",
            "remus\n",
            "views\n",
            "viamar\n",
            "kmembry\n",
            "homosexuals\n",
            "membry\n",
            "\n",
            "cluster 43:\n",
            "uk\n",
            "ac\n",
            "mathew\n",
            "mantis\n",
            "cam\n",
            "dcs\n",
            "university\n",
            "ed\n",
            "demon\n",
            "liverpool\n",
            "\n",
            "cluster 44:\n",
            "georgia\n",
            "ai\n",
            "uga\n",
            "covington\n",
            "mcovingt\n",
            "athens\n",
            "gatech\n",
            "michael\n",
            "prism\n",
            "aisun3\n",
            "\n",
            "cluster 45:\n",
            "windows\n",
            "window\n",
            "dos\n",
            "file\n",
            "ms\n",
            "files\n",
            "program\n",
            "com\n",
            "manager\n",
            "use\n",
            "\n",
            "cluster 46:\n",
            "hp\n",
            "com\n",
            "bike\n",
            "dod\n",
            "dog\n",
            "hewlett\n",
            "packard\n",
            "article\n",
            "ysu\n",
            "yfn\n",
            "\n",
            "cluster 47:\n",
            "gun\n",
            "guns\n",
            "firearms\n",
            "people\n",
            "weapons\n",
            "control\n",
            "police\n",
            "militia\n",
            "crime\n",
            "don\n",
            "\n",
            "cluster 48:\n",
            "jake\n",
            "bony1\n",
            "bony\n",
            "livni\n",
            "opinions\n",
            "department\n",
            "occupied\n",
            "redundancy\n",
            "israel\n",
            "jimmy\n",
            "\n",
            "cluster 49:\n",
            "cwru\n",
            "po\n",
            "kmr4\n",
            "jaeger\n",
            "reserve\n",
            "western\n",
            "keith\n",
            "case\n",
            "islam\n",
            "gregg\n",
            "\n"
          ],
          "name": "stdout"
        }
      ]
    },
    {
      "cell_type": "code",
      "metadata": {
        "id": "WfgVwcNUba_G",
        "colab_type": "code",
        "outputId": "eb2d9f62-331c-4e91-b2da-a4078f7b823e",
        "colab": {
          "base_uri": "https://localhost:8080/",
          "height": 85
        }
      },
      "source": [
        "#Performance evaluation of clustering algorithm\n",
        "print(\"Homogeneity: %0.3f\" % metrics.homogeneity_score(labels, km.labels_))\n",
        "print(\"Completeness: %0.3f\" % metrics.completeness_score(labels, km.labels_))\n",
        "print(\"V-measure: %0.3f\" % metrics.v_measure_score(labels, km.labels_))\n",
        "print(\"Silhouette Coefficient: %0.3f\"\n",
        "      % metrics.silhouette_score(X, km.labels_, sample_size=1000))\n"
      ],
      "execution_count": 9,
      "outputs": [
        {
          "output_type": "stream",
          "text": [
            "Homogeneity: 0.412\n",
            "Completeness: 0.392\n",
            "V-measure: 0.402\n",
            "Silhouette Coefficient: 0.010\n"
          ],
          "name": "stdout"
        }
      ]
    },
    {
      "cell_type": "markdown",
      "metadata": {
        "id": "SCqslK223-Iu",
        "colab_type": "text"
      },
      "source": [
        "# **Naive Bayes classifier on the same dataset**"
      ]
    },
    {
      "cell_type": "code",
      "metadata": {
        "id": "J0X-cCgYofj7",
        "colab_type": "code",
        "colab": {}
      },
      "source": [
        "from sklearn.pipeline import Pipeline\n",
        "from sklearn.feature_extraction.text import CountVectorizer\n",
        "from sklearn.feature_extraction.text import TfidfTransformer\n",
        "from sklearn.naive_bayes import MultinomialNB\n",
        "\n",
        "\n",
        "text_clf = Pipeline([('vect', CountVectorizer()),\n",
        "                     ('tfidf', TfidfTransformer()),\n",
        "                     ('clf', MultinomialNB()),])\n",
        "text_clf = text_clf.fit(newsgroups_train.data, newsgroups_train.target)"
      ],
      "execution_count": 0,
      "outputs": []
    },
    {
      "cell_type": "code",
      "metadata": {
        "id": "uevAhvEm3S4V",
        "colab_type": "code",
        "colab": {}
      },
      "source": [
        "newsgroups_test = fetch_20newsgroups(subset='test')\n",
        "test_labels = newsgroups_test.target"
      ],
      "execution_count": 0,
      "outputs": []
    },
    {
      "cell_type": "code",
      "metadata": {
        "id": "uMyzgRrn21zm",
        "colab_type": "code",
        "colab": {}
      },
      "source": [
        "predicted = text_clf.predict(newsgroups_test.data)\n"
      ],
      "execution_count": 0,
      "outputs": []
    },
    {
      "cell_type": "code",
      "metadata": {
        "id": "R4k54ZH63YkN",
        "colab_type": "code",
        "outputId": "aecd437f-2f41-4b4f-99fa-73acc856408b",
        "colab": {
          "base_uri": "https://localhost:8080/",
          "height": 34
        }
      },
      "source": [
        "print(\"Accuracy = \", np.mean(predicted == newsgroups_test.target)*100, \" % \")"
      ],
      "execution_count": 13,
      "outputs": [
        {
          "output_type": "stream",
          "text": [
            "Accuracy =  77.38980350504514  % \n"
          ],
          "name": "stdout"
        }
      ]
    },
    {
      "cell_type": "code",
      "metadata": {
        "id": "iXIQ99eD4P-f",
        "colab_type": "code",
        "outputId": "a7f313a3-af15-4e0f-f48a-1270967f6454",
        "colab": {
          "base_uri": "https://localhost:8080/",
          "height": 34
        }
      },
      "source": [
        "test_labels.shape"
      ],
      "execution_count": 14,
      "outputs": [
        {
          "output_type": "execute_result",
          "data": {
            "text/plain": [
              "(7532,)"
            ]
          },
          "metadata": {
            "tags": []
          },
          "execution_count": 14
        }
      ]
    },
    {
      "cell_type": "code",
      "metadata": {
        "id": "mQdWGxrMVEhP",
        "colab_type": "code",
        "outputId": "e6560157-6534-4e73-a3f0-bf322b92a229",
        "colab": {
          "base_uri": "https://localhost:8080/",
          "height": 336
        }
      },
      "source": [
        "from sklearn.metrics import confusion_matrix\n",
        "cm = confusion_matrix(newsgroups_test.target, predicted)\n",
        "import seaborn as sns\n",
        "import matplotlib.pyplot as plt\n",
        "sns.heatmap(cm)\n",
        "# plt.show()"
      ],
      "execution_count": 15,
      "outputs": [
        {
          "output_type": "stream",
          "text": [
            "/usr/local/lib/python3.6/dist-packages/statsmodels/tools/_testing.py:19: FutureWarning: pandas.util.testing is deprecated. Use the functions in the public API at pandas.testing instead.\n",
            "  import pandas.util.testing as tm\n"
          ],
          "name": "stderr"
        },
        {
          "output_type": "execute_result",
          "data": {
            "text/plain": [
              "<matplotlib.axes._subplots.AxesSubplot at 0x7f83a60afa58>"
            ]
          },
          "metadata": {
            "tags": []
          },
          "execution_count": 15
        },
        {
          "output_type": "display_data",
          "data": {
            "image/png": "[encoded data removed]",
            "text/plain": [
              "<Figure size 432x288 with 2 Axes>"
            ]
          },
          "metadata": {
            "tags": [],
            "needs_background": "light"
          }
        }
      ]
    },
    {
      "cell_type": "code",
      "metadata": {
        "id": "tgkVRTUZjI4P",
        "colab_type": "code",
        "outputId": "49577b43-b480-459f-ebd6-7adfb99b2748",
        "colab": {
          "base_uri": "https://localhost:8080/",
          "height": 697
        }
      },
      "source": [
        "cm"
      ],
      "execution_count": 16,
      "outputs": [
        {
          "output_type": "execute_result",
          "data": {
            "text/plain": [
              "array([[166,   0,   0,   1,   0,   1,   0,   0,   1,   1,   1,   3,   0,\n",
              "          6,   3, 123,   4,   8,   0,   1],\n",
              "       [  1, 252,  15,  12,   9,  18,   1,   2,   1,   5,   2,  41,   4,\n",
              "          0,   6,  15,   4,   1,   0,   0],\n",
              "       [  0,  14, 258,  45,   3,   9,   0,   2,   1,   3,   2,  25,   1,\n",
              "          0,   6,  23,   2,   0,   0,   0],\n",
              "       [  0,   5,  11, 305,  17,   1,   3,   6,   1,   0,   2,  19,  13,\n",
              "          0,   5,   3,   1,   0,   0,   0],\n",
              "       [  0,   3,   8,  23, 298,   0,   3,   8,   1,   3,   1,  16,   8,\n",
              "          0,   2,   8,   3,   0,   0,   0],\n",
              "       [  1,  21,  17,  13,   2, 298,   1,   0,   1,   1,   0,  23,   0,\n",
              "          1,   4,  10,   2,   0,   0,   0],\n",
              "       [  0,   1,   3,  31,  12,   1, 271,  19,   4,   4,   6,   5,  12,\n",
              "          6,   3,   9,   3,   0,   0,   0],\n",
              "       [  0,   1,   0,   3,   0,   0,   4, 364,   3,   2,   2,   4,   1,\n",
              "          1,   3,   3,   4,   0,   1,   0],\n",
              "       [  0,   0,   0,   1,   0,   0,   2,  10, 371,   0,   0,   4,   0,\n",
              "          0,   0,   8,   2,   0,   0,   0],\n",
              "       [  0,   0,   0,   0,   1,   0,   0,   4,   0, 357,  22,   0,   0,\n",
              "          0,   2,   9,   1,   1,   0,   0],\n",
              "       [  0,   0,   0,   0,   0,   0,   0,   1,   0,   4, 387,   1,   0,\n",
              "          0,   1,   5,   0,   0,   0,   0],\n",
              "       [  0,   2,   1,   0,   0,   1,   1,   3,   0,   0,   0, 383,   1,\n",
              "          0,   0,   3,   1,   0,   0,   0],\n",
              "       [  0,   4,   2,  17,   5,   0,   2,   8,   7,   1,   2,  78, 235,\n",
              "          3,  11,  15,   2,   1,   0,   0],\n",
              "       [  2,   3,   0,   1,   1,   3,   1,   0,   2,   3,   4,  11,   5,\n",
              "        292,   6,  52,   6,   4,   0,   0],\n",
              "       [  0,   2,   0,   1,   0,   3,   0,   2,   1,   0,   1,   6,   1,\n",
              "          2, 351,  19,   4,   0,   1,   0],\n",
              "       [  2,   0,   0,   0,   0,   0,   0,   0,   1,   0,   0,   0,   0,\n",
              "          1,   2, 392,   0,   0,   0,   0],\n",
              "       [  0,   0,   0,   1,   0,   0,   2,   0,   1,   1,   0,  10,   0,\n",
              "          0,   1,   6, 341,   1,   0,   0],\n",
              "       [  0,   1,   0,   0,   0,   0,   0,   0,   0,   1,   0,   2,   0,\n",
              "          0,   0,  24,   3, 344,   1,   0],\n",
              "       [  2,   0,   0,   0,   0,   0,   0,   1,   0,   0,   1,  11,   0,\n",
              "          1,   7,  35, 118,   5, 129,   0],\n",
              "       [ 33,   2,   0,   0,   0,   0,   0,   0,   0,   1,   1,   3,   0,\n",
              "          4,   4, 131,  29,   5,   3,  35]])"
            ]
          },
          "metadata": {
            "tags": []
          },
          "execution_count": 16
        }
      ]
    }
  ]
}