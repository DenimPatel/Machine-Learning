{
 "cells": [
  {
   "cell_type": "markdown",
   "metadata": {},
   "source": [
    "# Ridge regressor is extended linear regresssor that takes care of outliers"
   ]
  },
  {
   "cell_type": "code",
   "execution_count": 1,
   "metadata": {},
   "outputs": [],
   "source": [
    "import sys\n",
    "import numpy as np\n",
    "from sklearn import linear_model"
   ]
  },
  {
   "cell_type": "code",
   "execution_count": 2,
   "metadata": {},
   "outputs": [],
   "source": [
    "ridge_regressor = linear_model.Ridge(alpha=0.15, fit_intercept=True, max_iter=10000)\n",
    "#the alpha parameter controls the complexity. As alpha gets closer to 0, the ridge\n",
    "#regressor tends to become more like a linear regressor with ordinary least squares.\n",
    "#So, if you want to make it robust against outliers, you need to assign a higher value\n",
    "#to alpha. We considered a value of 0.01, which is moderate"
   ]
  },
  {
   "cell_type": "code",
   "execution_count": 3,
   "metadata": {},
   "outputs": [],
   "source": [
    "X = []\n",
    "y = []\n",
    "filename = \"data_multivar.txt\"\n",
    "with open(filename, 'r') as f:\n",
    " for line in f.readlines():\n",
    "  xt, yt = [float(i) for i in line.split(',')]\n",
    "  X.append(xt)\n",
    "  y.append(yt)"
   ]
  },
  {
   "cell_type": "code",
   "execution_count": 4,
   "metadata": {},
   "outputs": [],
   "source": [
    "training_data_numbers = int(0.8 * len(X))\n",
    "testing_data_numbers = len(X) - training_data_numbers"
   ]
  },
  {
   "cell_type": "code",
   "execution_count": 5,
   "metadata": {},
   "outputs": [],
   "source": [
    "X_train = np.array(X[:training_data_numbers]).reshape((training_data_numbers,1))\n",
    "y_train = np.array(y[:training_data_numbers])\n",
    "\n",
    "#testing data\n",
    "X_test = np.array(X[training_data_numbers:]).reshape((testing_data_numbers,1))\n",
    "y_test = np.array(y[training_data_numbers:])\n",
    "\n",
    "ridge_regressor.fit(X_train, y_train)\n",
    "y_test_pred_ridge = ridge_regressor.predict(X_test)"
   ]
  },
  {
   "cell_type": "code",
   "execution_count": 8,
   "metadata": {},
   "outputs": [
    {
     "data": {
      "image/png": "[encoded data removed]",
      "text/plain": [
       "<Figure size 432x288 with 1 Axes>"
      ]
     },
     "metadata": {
      "needs_background": "light"
     },
     "output_type": "display_data"
    }
   ],
   "source": [
    "import matplotlib.pyplot as plt\n",
    "\n",
    "y_train_pred = ridge_regressor.predict(X_train)\n",
    "\n",
    "plt.figure()\n",
    "plt.scatter(X_train, y_train, color='blue')\n",
    "plt.plot(X_train, y_train_pred, color='red', linewidth=1)\n",
    "plt.title('based on training data')\n",
    "plt.show()"
   ]
  },
  {
   "cell_type": "code",
   "execution_count": 7,
   "metadata": {},
   "outputs": [
    {
     "name": "stdout",
     "output_type": "stream",
     "text": [
      "Mean absolute error = 4.12\n",
      "Mean squared error = 21.51\n",
      "Median absolute error = 3.98\n",
      "Explain variance score = 0.66\n",
      "R2 score = -0.62\n"
     ]
    }
   ],
   "source": [
    "import sklearn.metrics as sm\n",
    "\n",
    "print (\"Mean absolute error =\", round(sm.mean_absolute_error(y_test, y_test_pred_ridge), 2))\n",
    "print (\"Mean squared error =\", round(sm.mean_squared_error(y_test,y_test_pred_ridge), 2))\n",
    "print (\"Median absolute error =\", round(sm.median_absolute_error(y_test, y_test_pred_ridge), 2))\n",
    "print (\"Explain variance score =\", round(sm.explained_variance_score(y_test, y_test_pred_ridge), 2))\n",
    "print (\"R2 score =\", round(sm.r2_score(y_test, y_test_pred_ridge),2))"
   ]
  },
  {
   "cell_type": "code",
   "execution_count": 17,
   "metadata": {},
   "outputs": [
    {
     "data": {
      "text/plain": [
       "array([1.85923857])"
      ]
     },
     "execution_count": 17,
     "metadata": {},
     "output_type": "execute_result"
    }
   ],
   "source": [
    "ridge_regressor.coef_  "
   ]
  },
  {
   "cell_type": "code",
   "execution_count": 20,
   "metadata": {},
   "outputs": [
    {
     "data": {
      "text/plain": [
       "27.88845"
      ]
     },
     "execution_count": 20,
     "metadata": {},
     "output_type": "execute_result"
    }
   ],
   "source": [
    "1.85923*15"
   ]
  },
  {
   "cell_type": "code",
   "execution_count": null,
   "metadata": {},
   "outputs": [],
   "source": []
  }
 ],
 "metadata": {
  "kernelspec": {
   "display_name": "Python 3",
   "language": "python",
   "name": "python3"
  },
  "language_info": {
   "codemirror_mode": {
    "name": "ipython",
    "version": 3
   },
   "file_extension": ".py",
   "mimetype": "text/x-python",
   "name": "python",
   "nbconvert_exporter": "python",
   "pygments_lexer": "ipython3",
   "version": "3.7.0"
  }
 },
 "nbformat": 4,
 "nbformat_minor": 2
}
