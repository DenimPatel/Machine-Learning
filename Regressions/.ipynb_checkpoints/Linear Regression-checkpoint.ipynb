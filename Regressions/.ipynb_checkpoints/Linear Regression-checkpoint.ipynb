{
 "cells": [
  {
   "cell_type": "markdown",
   "metadata": {},
   "source": [
    "The goal of linear regression is to extract the underlying linear model that relates the input\n",
    "variable to the output variable. This aims to minimize the sum of squares of differences\n",
    "between the actual output and the predicted output using a linear function. This method\n",
    "is called Ordinary least squares"
   ]
  },
  {
   "cell_type": "code",
   "execution_count": 1,
   "metadata": {},
   "outputs": [],
   "source": [
    "import sys\n",
    "import numpy as np"
   ]
  },
  {
   "cell_type": "code",
   "execution_count": 2,
   "metadata": {},
   "outputs": [],
   "source": [
    "# make two bins to store the feature(input) and the output\n",
    "X = []\n",
    "y = []"
   ]
  },
  {
   "cell_type": "code",
   "execution_count": 3,
   "metadata": {},
   "outputs": [],
   "source": [
    "#standad procedure to read from the CSV files\n",
    "#Format of CSV file\n",
    "#feature,feature,feature,...,output\n",
    "#feature,feature,feature,...,output\n",
    "#feature,feature,feature,...,output"
   ]
  },
  {
   "cell_type": "code",
   "execution_count": 4,
   "metadata": {},
   "outputs": [],
   "source": [
    "from sklearn import linear_model"
   ]
  },
  {
   "cell_type": "code",
   "execution_count": 5,
   "metadata": {},
   "outputs": [],
   "source": [
    "filename = \"Linear_regression_csv_file.csv\"\n",
    "with open(filename, 'r') as f:\n",
    " for line in f.readlines():\n",
    "  xt, yt = [float(i) for i in line.split(',')]\n",
    "  X.append(xt)\n",
    "  y.append(yt)"
   ]
  },
  {
   "cell_type": "code",
   "execution_count": 6,
   "metadata": {},
   "outputs": [],
   "source": [
    "training_data_numbers = int(0.8 * len(X))\n",
    "testing_data_numbers = len(X) - training_data_numbers"
   ]
  },
  {
   "cell_type": "markdown",
   "metadata": {},
   "source": [
    "Make Numpy arrays using the simple arrays to feed it into linear regressor"
   ]
  },
  {
   "cell_type": "code",
   "execution_count": 7,
   "metadata": {},
   "outputs": [],
   "source": [
    "#training data\n",
    "X_train = np.array(X[:training_data_numbers]).reshape((training_data_numbers,1))\n",
    "y_train = np.array(y[:training_data_numbers])\n",
    "\n",
    "#testing data\n",
    "X_test = np.array(X[training_data_numbers:]).reshape((testing_data_numbers,1))\n",
    "y_test = np.array(y[training_data_numbers:])\n",
    "\n",
    "# note that we have used the sequencial data, not random data for training and tessting set\n",
    "\n",
    "## here for \"X\" we used reshape but not for y understand the difference,\n",
    "# we need feature/input X as a column vector and output y as a row vector"
   ]
  },
  {
   "cell_type": "markdown",
   "metadata": {},
   "source": [
    "# Train the Model"
   ]
  },
  {
   "cell_type": "code",
   "execution_count": 8,
   "metadata": {},
   "outputs": [
    {
     "data": {
      "text/plain": [
       "LinearRegression(copy_X=True, fit_intercept=True, n_jobs=1, normalize=False)"
      ]
     },
     "execution_count": 8,
     "metadata": {},
     "output_type": "execute_result"
    }
   ],
   "source": [
    "# Create linear regression object\n",
    "linear_regressor = linear_model.LinearRegression()\n",
    "# Train the model using the training sets\n",
    "linear_regressor.fit(X_train, y_train)\n",
    "\n",
    "## As the result, we will get the line as an output"
   ]
  },
  {
   "cell_type": "markdown",
   "metadata": {},
   "source": [
    "# Show the result on graph"
   ]
  },
  {
   "cell_type": "code",
   "execution_count": 9,
   "metadata": {},
   "outputs": [
    {
     "data": {
      "text/plain": [
       "<Figure size 640x480 with 1 Axes>"
      ]
     },
     "metadata": {},
     "output_type": "display_data"
    }
   ],
   "source": [
    "import matplotlib.pyplot as plt\n",
    "y_train_pred = linear_regressor.predict(X_train)\n",
    "\n",
    "plt.figure()\n",
    "plt.scatter(X_train, y_train, color='blue')\n",
    "plt.plot(X_train, y_train_pred, color='red', linewidth=1)\n",
    "plt.title('based on training data')\n",
    "plt.show()"
   ]
  },
  {
   "cell_type": "markdown",
   "metadata": {},
   "source": [
    "# predict for the bunch "
   ]
  },
  {
   "cell_type": "code",
   "execution_count": 10,
   "metadata": {},
   "outputs": [
    {
     "data": {
      "image/png": "[encoded data removed]",
      "text/plain": [
       "<Figure size 432x288 with 1 Axes>"
      ]
     },
     "metadata": {
      "needs_background": "light"
     },
     "output_type": "display_data"
    }
   ],
   "source": [
    "y_test_pred = linear_regressor.predict(X_test)\n",
    "plt.scatter(X_test, y_test, color='green')\n",
    "plt.plot(X_test, y_test_pred, color='black', linewidth=4)\n",
    "plt.title('Test data')\n",
    "plt.show()"
   ]
  },
  {
   "cell_type": "markdown",
   "metadata": {},
   "source": [
    "# Predict for single value"
   ]
  },
  {
   "cell_type": "code",
   "execution_count": 11,
   "metadata": {},
   "outputs": [
    {
     "data": {
      "text/plain": [
       "array([10.12087912])"
      ]
     },
     "execution_count": 11,
     "metadata": {},
     "output_type": "execute_result"
    }
   ],
   "source": [
    "output = linear_regressor.predict(5)\n",
    "output"
   ]
  },
  {
   "cell_type": "markdown",
   "metadata": {},
   "source": [
    "# HOW good is our regression?"
   ]
  },
  {
   "cell_type": "code",
   "execution_count": 12,
   "metadata": {},
   "outputs": [
    {
     "name": "stdout",
     "output_type": "stream",
     "text": [
      "Mean absolute error = 0.88\n",
      "Mean squared error = 1.28\n",
      "Median absolute error = 0.79\n",
      "Explained variance score = 0.79\n",
      "R2 score = 0.77\n"
     ]
    }
   ],
   "source": [
    "import sklearn.metrics as sm\n",
    "print (\"Mean absolute error =\", round(sm.mean_absolute_error(y_test,y_test_pred), 2) )\n",
    "print (\"Mean squared error =\", round(sm.mean_squared_error(y_test, y_test_pred), 2) )\n",
    "print (\"Median absolute error =\", round(sm.median_absolute_error(y_test, y_test_pred), 2) )\n",
    "print (\"Explained variance score =\", round(sm.explained_variance_score(y_test, y_test_pred), 2) )\n",
    "print (\"R2 score =\", round(sm.r2_score(y_test, y_test_pred), 2)  )"
   ]
  },
  {
   "cell_type": "markdown",
   "metadata": {},
   "source": [
    "# Store regression model into a file"
   ]
  },
  {
   "cell_type": "code",
   "execution_count": 13,
   "metadata": {},
   "outputs": [],
   "source": [
    "import _pickle as cPickle\n",
    "\n",
    "output_model_file = 'saved_model.pkl'\n",
    "with open(output_model_file, 'wb') as f:\n",
    "    #cPickle.dump(linear_regressor, f)\n",
    "    cPickle.dump(linear_regressor, open( output_model_file, 'wb' ) )"
   ]
  },
  {
   "cell_type": "markdown",
   "metadata": {},
   "source": [
    "# Load regression Model and predict "
   ]
  },
  {
   "cell_type": "code",
   "execution_count": 14,
   "metadata": {},
   "outputs": [
    {
     "name": "stdout",
     "output_type": "stream",
     "text": [
      "\n",
      "predicted value = [5.98098901]\n"
     ]
    }
   ],
   "source": [
    "with open(output_model_file, 'rb') as f:\n",
    "    model_linregr = cPickle.load(f)\n",
    "    predict_new_val = model_linregr.predict(3)\n",
    "    \n",
    "    print(\"\\npredicted value =\", predict_new_val )"
   ]
  },
  {
   "cell_type": "code",
   "execution_count": 15,
   "metadata": {},
   "outputs": [
    {
     "ename": "AttributeError",
     "evalue": "'LinearRegression' object has no attribute 'feature_importances_'",
     "output_type": "error",
     "traceback": [
      "\u001b[0;31m---------------------------------------------------------------------------\u001b[0m",
      "\u001b[0;31mAttributeError\u001b[0m                            Traceback (most recent call last)",
      "\u001b[0;32m<ipython-input-15-55d78bd0e56f>\u001b[0m in \u001b[0;36m<module>\u001b[0;34m()\u001b[0m\n\u001b[0;32m----> 1\u001b[0;31m \u001b[0mlinear_regressor\u001b[0m\u001b[0;34m.\u001b[0m\u001b[0mfeature_importances_\u001b[0m\u001b[0;34m\u001b[0m\u001b[0m\n\u001b[0m",
      "\u001b[0;31mAttributeError\u001b[0m: 'LinearRegression' object has no attribute 'feature_importances_'"
     ]
    }
   ],
   "source": []
  }
 ],
 "metadata": {
  "kernelspec": {
   "display_name": "Python 3",
   "language": "python",
   "name": "python3"
  },
  "language_info": {
   "codemirror_mode": {
    "name": "ipython",
    "version": 3
   },
   "file_extension": ".py",
   "mimetype": "text/x-python",
   "name": "python",
   "nbconvert_exporter": "python",
   "pygments_lexer": "ipython3",
   "version": "3.7.0"
  }
 },
 "nbformat": 4,
 "nbformat_minor": 2
}
